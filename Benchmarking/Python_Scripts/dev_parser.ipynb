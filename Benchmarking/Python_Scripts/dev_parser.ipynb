{
 "cells": [
  {
   "cell_type": "code",
   "execution_count": 44,
   "id": "29f761d3-e94b-47ba-b7ee-1b3ef715a1e2",
   "metadata": {},
   "outputs": [],
   "source": [
    "import pandas as pd\n",
    "import numpy as np \n",
    "import os"
   ]
  },
  {
   "cell_type": "code",
   "execution_count": 56,
   "id": "534c25f1-a6eb-45ec-b1dc-b7cf43354659",
   "metadata": {},
   "outputs": [],
   "source": [
    "db_dir = '/home/panastas/mount/PhD_stuff/PARALiA-GEMMex/silver1-build/silver1_2V100-install/Database/'\n",
    "db_dir_mb = db_dir + 'microbenchmarks'\n",
    "CHL_WORKERS = 2\n",
    "CHL_MEMLOCS = CHL_WORKERS + 2\n",
    "memloc_list = []\n",
    "for i in range(0,CHL_MEMLOCS):\n",
    "    memloc_list.append(i)"
   ]
  },
  {
   "cell_type": "code",
   "execution_count": 57,
   "id": "07b2b740-5d2a-41dd-a841-8eb4443b227b",
   "metadata": {},
   "outputs": [],
   "source": [
    "def translate_binary_to_unit_list(case_id):\n",
    "    id_list = []\n",
    "    for mask_offset in range(0, CHL_WORKERS+1):\n",
    "        mask = 1 << mask_offset;\n",
    "        if (case_id & mask):\n",
    "            id_list.append(mask_offset);\n",
    "    return id_list\n",
    "\n",
    "def translate_unit_list_to_binary(list_input):\n",
    "    case_id_out = 0; \n",
    "    for mask_offset in range(0, CHL_WORKERS+1):\n",
    "        if mask_offset in list_input:\n",
    "            case_id_out+= pow(2, mask_offset);\n",
    "    return case_id_out;\n",
    "\n",
    "def bench_bc_log_read(filename):\n",
    "    if os.path.exists(filename):\n",
    "        temp = pd.read_csv(filename, header=None, names = ['dest','dim1', 'dim2', 'elemSize','bw'], \n",
    "            dtype = {'dest': np.int64, 'dim1': np.int64, 'dim2': np.int64, 'elemSize': np.int64, 'bw': np.float64} )\n",
    "        read_flag = 1\n",
    "    else:\n",
    "        temp = pd.DataFrame()\n",
    "        read_flag = 0\n",
    "    return read_flag, temp\n",
    "\n",
    "def bench_bc_groupby_(df):\n",
    "    result = df.groupby(['T','dev_num', 'dev_id_token', 'cachesize_limit','TransA','TransB',\n",
    "        'alpha','beta','M','N','K','Asloc','Bsloc','Csloc', 'CsOutloc', 'flops', 'bytes', 'loc_str', 'imp', 'plot_order'], as_index=False, sort=True).mean()\n",
    "    #print(result)\n",
    "    return result"
   ]
  },
  {
   "cell_type": "code",
   "execution_count": 62,
   "id": "6341e993-4e27-4d54-bb17-43e501da0eb1",
   "metadata": {},
   "outputs": [
    {
     "name": "stdout",
     "output_type": "stream",
     "text": [
      "1\n",
      "[0]\n",
      "|    |   dest |   dim1 |   dim2 |   elemSize |      bw |   src |\n",
      "|---:|-------:|-------:|-------:|-----------:|--------:|------:|\n",
      "|  5 |      0 |   8192 |   8192 |          8 | -1      |     0 |\n",
      "|  5 |      0 |   8192 |   8192 |          8 | 48.5119 |     1 |\n",
      "|  5 |      0 |   8192 |   8192 |          8 | 12.3011 |     2 |\n",
      "|  5 |      0 |   8192 |   8192 |          8 | 12.4131 |     3 |\n",
      "====================================================================================================\n",
      "CHL_MEMLOCS = 4\n",
      "\n",
      "====================================================================================================\n",
      "2\n",
      "[1]\n",
      "|    |   dest |   dim1 |   dim2 |   elemSize |      bw |   src |\n",
      "|---:|-------:|-------:|-------:|-----------:|--------:|------:|\n",
      "|  5 |      1 |   8192 |   8192 |          8 | 48.5116 |     0 |\n",
      "|  5 |      1 |   8192 |   8192 |          8 | -1      |     1 |\n",
      "|  5 |      1 |   8192 |   8192 |          8 | 12.2997 |     2 |\n",
      "|  5 |      1 |   8192 |   8192 |          8 | 12.4126 |     3 |\n",
      "====================================================================================================\n",
      "CHL_MEMLOCS = 4\n",
      "\n",
      "====================================================================================================\n",
      "3\n",
      "[0, 1]\n",
      "|    |   dest |   dim1 |   dim2 |   elemSize |      bw |   src |\n",
      "|---:|-------:|-------:|-------:|-----------:|--------:|------:|\n",
      "| 10 |      0 |   8192 |   8192 |          8 | -1      |     0 |\n",
      "| 10 |      0 |   8192 |   8192 |          8 | 48.5137 |     1 |\n",
      "| 10 |      0 |   8192 |   8192 |          8 | 12.3018 |     2 |\n",
      "| 10 |      0 |   8192 |   8192 |          8 | 12.4134 |     3 |\n",
      "| 11 |      1 |   8192 |   8192 |          8 | 48.5108 |     0 |\n",
      "| 11 |      1 |   8192 |   8192 |          8 | -1      |     1 |\n",
      "| 11 |      1 |   8192 |   8192 |          8 | 12.3015 |     2 |\n",
      "| 11 |      1 |   8192 |   8192 |          8 | 12.4125 |     3 |\n",
      "====================================================================================================\n",
      "CHL_MEMLOCS = 4\n",
      "\n",
      "====================================================================================================\n"
     ]
    }
   ],
   "source": [
    "for case_id in range(1,2**CHL_WORKERS):\n",
    "    print(case_id)\n",
    "    active_unit_id_list = translate_binary_to_unit_list(case_id)\n",
    "    print(active_unit_id_list)\n",
    "    bench_bc = pd.DataFrame()\n",
    "    cont_flag = 0\n",
    "    for elem in memloc_list:\n",
    "        bw_bench_bc_filename =  '%s/bw_bench_broadcast_2D_%d_%d.log' %(db_dir_mb, elem, case_id)\n",
    "        read_flag, bench_bc_el = bench_bc_log_read(bw_bench_bc_filename)\n",
    "        if read_flag == 0:\n",
    "            cont_flag = 1\n",
    "            break\n",
    "        #print(bench_bc_el.to_markdown())\n",
    "        bench_bc_el['src'] = elem\n",
    "        bench_bc = pd.concat([bench_bc,bench_bc_el])\n",
    "    if cont_flag:\n",
    "        continue\n",
    "    bench_bc.sort_values(inplace = True, by = ['dim1', 'dest', 'src'])\n",
    "    #print(bench_bc.to_markdown()) \n",
    "    max_dim = bench_bc['dim1'].max()\n",
    "    #print(max_dim)\n",
    "    bench_bc_gb = bench_bc[bench_bc['dim1'] == max_dim]\n",
    "    #print(bench_bc_gb.to_markdown())\n",
    "    print('====================================================================================================')\n",
    "    print('CHL_MEMLOCS = %d\\n' %(CHL_MEMLOCS))\n",
    "    print('One-directional:')\n",
    "    for elem in memloc_list:\n",
    "        for elem1 in memloc_list:\n",
    "    print('====================================================================================================')"
   ]
  },
  {
   "cell_type": "code",
   "execution_count": null,
   "id": "5eac3bb3-9307-41ce-a5ee-977effc32dc3",
   "metadata": {},
   "outputs": [],
   "source": []
  },
  {
   "cell_type": "code",
   "execution_count": null,
   "id": "ca1d88fb-803b-4f83-8918-1aeb6de87218",
   "metadata": {},
   "outputs": [],
   "source": []
  }
 ],
 "metadata": {
  "kernelspec": {
   "display_name": "Python 3 (ipykernel)",
   "language": "python",
   "name": "python3"
  },
  "language_info": {
   "codemirror_mode": {
    "name": "ipython",
    "version": 3
   },
   "file_extension": ".py",
   "mimetype": "text/x-python",
   "name": "python",
   "nbconvert_exporter": "python",
   "pygments_lexer": "ipython3",
   "version": "3.10.12"
  }
 },
 "nbformat": 4,
 "nbformat_minor": 5
}
